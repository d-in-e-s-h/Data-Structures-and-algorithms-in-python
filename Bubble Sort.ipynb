{
 "cells": [
  {
   "cell_type": "markdown",
   "metadata": {},
   "source": [
    "# Bubble Sort"
   ]
  },
  {
   "cell_type": "markdown",
   "metadata": {},
   "source": [
    "Bubble sort algorithm simply compares the adjacent elements and swaps if they are not in order untill all elements are \n",
    "sorted."
   ]
  },
  {
   "cell_type": "code",
   "execution_count": null,
   "metadata": {},
   "outputs": [],
   "source": [
    "import random #This library produces random numbers \n",
    "#We use this here for generating random list of numbers to apply sorting algorithm."
   ]
  },
  {
   "cell_type": "code",
   "execution_count": 10,
   "metadata": {},
   "outputs": [],
   "source": [
    "def bubble_sort(arr):\n",
    "    for i in range(len(arr)): # iteration should check all the elements in the list, so the range is set as length of the list\n",
    "        \n",
    "        for j in range(len(arr)-1) #length -1 is because to avoid going out of index, i.e if len =3 then it should only compare 1st and 2nd, 2nd and 3rd, not 3rd and 3+1th element.\n",
    "            \n",
    "            if arr[j]>arr[j+1]: # adjacent elements are being compared\n",
    "                arr[j],arr[j+1]=arr[j+1],arr[j] #swapping of elements\n",
    "            else:\n",
    "                continue\n",
    "    return arr #function returns the sorted list"
   ]
  },
  {
   "cell_type": "code",
   "execution_count": 22,
   "metadata": {},
   "outputs": [
    {
     "name": "stdout",
     "output_type": "stream",
     "text": [
      "Generated random list :  [5, 60, 33, 56, 61, 14, 27, 44, 94, 24, 84, 90, 88, 46, 38, 16, 86, 95, 65, 68]\n"
     ]
    }
   ],
   "source": [
    "arr=random.sample(range(1,100),20) # generating a random list of numbers of length 20 using random.sample module in between 1 to 100\n",
    "print(\"Generated random list : \",arr)"
   ]
  },
  {
   "cell_type": "code",
   "execution_count": 23,
   "metadata": {},
   "outputs": [
    {
     "name": "stdout",
     "output_type": "stream",
     "text": [
      "Sorted list :  [5, 14, 16, 24, 27, 33, 38, 44, 46, 56, 60, 61, 65, 68, 84, 86, 88, 90, 94, 95]\n"
     ]
    }
   ],
   "source": [
    "print(\"Sorted list : \",bubble_sort(arr)) # calling the function to get the sorted list."
   ]
  }
 ],
 "metadata": {
  "kernelspec": {
   "display_name": "Python 3",
   "language": "python",
   "name": "python3"
  },
  "language_info": {
   "codemirror_mode": {
    "name": "ipython",
    "version": 3
   },
   "file_extension": ".py",
   "mimetype": "text/x-python",
   "name": "python",
   "nbconvert_exporter": "python",
   "pygments_lexer": "ipython3",
   "version": "3.7.4"
  }
 },
 "nbformat": 4,
 "nbformat_minor": 2
}
