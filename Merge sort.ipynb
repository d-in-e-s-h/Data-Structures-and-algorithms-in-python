{
 "cells": [
  {
   "cell_type": "markdown",
   "metadata": {},
   "source": [
    "#  Merge sort"
   ]
  },
  {
   "cell_type": "markdown",
   "metadata": {},
   "source": [
    "Merge Sort is a Divide and Conquer algorithm. It divides the input array into two halves, calls itself for the two halves, and then merges the two sorted halves."
   ]
  },
  {
   "cell_type": "code",
   "execution_count": 45,
   "metadata": {},
   "outputs": [],
   "source": [
    "import random  #This library produces random numbers \n",
    "#We use this here for generating random list of numbers to apply sorting algorithm."
   ]
  },
  {
   "cell_type": "code",
   "execution_count": 53,
   "metadata": {},
   "outputs": [],
   "source": [
    "def merge_sort(arr):\n",
    "    if len(arr)>1: # algorithm executes only if the length of list greater than 1\n",
    "        \n",
    "        middle_element = len(arr)//2  #finding the middle for dividing the given list\n",
    "        \n",
    "        # slicing and assigning of left and right lists\n",
    "        left_arr = arr[:middle_element]    \n",
    "        right_arr = arr[middle_element:]\n",
    "\n",
    "        # dividing the list by calling the function recursively \n",
    "        \n",
    "        merge_sort(left_arr)   \n",
    "        merge_sort(right_arr)\n",
    "\n",
    "        #divide and sort the array\n",
    "        \n",
    "        i=0    #index of left_arr\n",
    "        j=0    #index of right_arr\n",
    "        k=0    #index for merging \n",
    "        \n",
    "        # this block executes only if left and right index values are less than length of correspoding lists\n",
    "        while i < len(left_arr) and j < len(right_arr):\n",
    "            \n",
    "            #here it compares between left and right lists and swapping is done using merge index 'k'\n",
    "            \n",
    "            if left_arr[i] < right_arr[j]:\n",
    "                arr[k]=left_arr[i]\n",
    "                i+=1\n",
    "            else:\n",
    "                arr[k]=right_arr[j]\n",
    "                j+=1\n",
    "            k+=1\n",
    "        \n",
    "        #this block is for comparing and swapping elements of left list\n",
    "        while i< len(left_arr):\n",
    "            arr[k]=left_arr[i]\n",
    "            i+=1\n",
    "            k+=1\n",
    "            \n",
    "        #this block is for comparing and swapping elements of right list\n",
    "        while j< len(right_arr):\n",
    "            arr[k]=right_arr[j]\n",
    "            j+=1\n",
    "            k+=1\n",
    "            \n",
    "        return arr #returns the sorted list\n",
    "    \n",
    "    \n",
    "    # this block executes when the given length of list is one or less than that\n",
    "    else:\n",
    "        return \"Length of given list is 1, no sorting required \""
   ]
  },
  {
   "cell_type": "code",
   "execution_count": 57,
   "metadata": {},
   "outputs": [
    {
     "name": "stdout",
     "output_type": "stream",
     "text": [
      "Generated random list :  [84, 89, 88, 36, 86, 23, 14, 78, 63, 53, 5, 96, 69, 49, 51, 57, 59, 48, 9, 60, 47, 16, 82, 97, 28, 65, 12, 58, 31, 25]\n"
     ]
    }
   ],
   "source": [
    "arr=random.sample(range(1,100),30) # generating a random list of numbers of length 30 using random.sample module in between 1 to 100\n",
    "print(\"Generated random list : \",arr)"
   ]
  },
  {
   "cell_type": "code",
   "execution_count": 58,
   "metadata": {},
   "outputs": [
    {
     "name": "stdout",
     "output_type": "stream",
     "text": [
      "Sorted list :  [5, 9, 12, 14, 16, 23, 25, 28, 31, 36, 47, 48, 49, 51, 53, 57, 58, 59, 60, 63, 65, 69, 78, 82, 84, 86, 88, 89, 96, 97]\n"
     ]
    }
   ],
   "source": [
    "print(\"Sorted list : \",merge_sort(arr)) # calling the function to get the sorted list."
   ]
  }
 ],
 "metadata": {
  "kernelspec": {
   "display_name": "Python 3",
   "language": "python",
   "name": "python3"
  },
  "language_info": {
   "codemirror_mode": {
    "name": "ipython",
    "version": 3
   },
   "file_extension": ".py",
   "mimetype": "text/x-python",
   "name": "python",
   "nbconvert_exporter": "python",
   "pygments_lexer": "ipython3",
   "version": "3.7.4"
  }
 },
 "nbformat": 4,
 "nbformat_minor": 2
}
